{
 "cells": [
  {
   "cell_type": "markdown",
   "metadata": {},
   "source": [
    "#欢迎来到SJTU Summer AI Camp Group4 的 Gitlab\n",
    "\n",
    "测试Pull Request on 2022-07-03 from xiuzenb"
   ]
  }
 ],
 "metadata": {
  "language_info": {
   "name": "python"
  },
  "orig_nbformat": 4
 },
 "nbformat": 4,
 "nbformat_minor": 2
}
